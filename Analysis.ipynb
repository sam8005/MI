{
 "cells": [
  {
   "cell_type": "code",
   "execution_count": 29,
   "metadata": {},
   "outputs": [],
   "source": [
    "import cv2 as cv\n",
    "import openslide\n",
    "import large_image\n",
    "import matplotlib.pyplot as plt "
   ]
  },
  {
   "cell_type": "code",
   "execution_count": 5,
   "metadata": {},
   "outputs": [],
   "source": [
    "image_path = './Data/patient_074_node_2.tif'\n",
    "\n",
    "wsi_img = large_image.getTileSource(image_path)\n",
    "slide = openslide.OpenSlide(image_path)"
   ]
  },
  {
   "cell_type": "code",
   "execution_count": 6,
   "metadata": {},
   "outputs": [
    {
     "data": {
      "text/plain": [
       "{'levels': 10,\n",
       " 'sizeX': 96651,\n",
       " 'sizeY': 197226,\n",
       " 'tileWidth': 512,\n",
       " 'tileHeight': 512,\n",
       " 'magnification': 41.136382812499996,\n",
       " 'mm_x': 0.00024309380933126983,\n",
       " 'mm_y': 0.00024309380933126983}"
      ]
     },
     "execution_count": 6,
     "metadata": {},
     "output_type": "execute_result"
    }
   ],
   "source": [
    "wsi_img.getMetadata()"
   ]
  },
  {
   "cell_type": "markdown",
   "metadata": {},
   "source": [
    "## Level-0 Analysis"
   ]
  },
  {
   "cell_type": "code",
   "execution_count": 36,
   "metadata": {},
   "outputs": [
    {
     "name": "stdout",
     "output_type": "stream",
     "text": [
      "Pixel Dimensions of Level-0:  (96651, 197226)\n"
     ]
    }
   ],
   "source": [
    "print(\"Pixel Dimensions of Level-0: \",slide.level_dimensions[0])\n",
    "\n",
    "n_tiles = 0\n",
    "for _tile_ in wsi_img.tileIterator(\n",
    "                    scale=dict(magnification=41.136382812499996),\n",
    "                    tile_size=dict(width=512, height=512),\n",
    "                    format=large_image.tilesource.TILE_FORMAT_NUMPY\n",
    "                                ):\n",
    "    n_tiles+=1\n",
    "    tile = _tile_['tile']\n",
    "    _grey = cv.cvtColor(tile, cv.COLOR_BGR2GRAY)\n",
    "    \n",
    "    if(cv.countNonZero(_grey)>50):\n",
    "        cv.imwrite('./Tile_images/{}.jpg'.format(n_tiles), tile)\n",
    "    else:\n",
    "        cv.imwrite('./Black/{}.jpg'.format(n_tiles), tile)\n",
    "        "
   ]
  }
 ],
 "metadata": {
  "kernelspec": {
   "display_name": "Python 3",
   "language": "python",
   "name": "python3"
  },
  "language_info": {
   "codemirror_mode": {
    "name": "ipython",
    "version": 3
   },
   "file_extension": ".py",
   "mimetype": "text/x-python",
   "name": "python",
   "nbconvert_exporter": "python",
   "pygments_lexer": "ipython3",
   "version": "3.7.6"
  }
 },
 "nbformat": 4,
 "nbformat_minor": 4
}
